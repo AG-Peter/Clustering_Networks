{
 "cells": [
  {
   "cell_type": "markdown",
   "id": "1c8f6320-7d51-4797-ab00-42be05e51581",
   "metadata": {},
   "source": [
    "# Plotting consensus graphs of clusters as arc diagrams\n",
    "\n",
    "In this notebook, the consensus graph of a cluster is plotted as an arc diagram. \n",
    "\n",
    "Here, this is the red cluster (cluster 12) in the HDBSCAN clustering of the EncoderMap for full length FAT10.\n",
    "\n",
    "The nodes of the consensus graph are the residues of the protein. The edges between two residues are weighted by the probability of a contact between them in a cluster. This means the adjacency matrix of the consensus graph is the mean adjacency matrix of the cluster.\n",
    "\n",
    "Here, for readability, the edges are grouped by probability and drawn according to their probability interval: \n",
    "\n",
    "- $[0-25\\%[$: No edge \n",
    "- $[25-50\\%[$: dotted edge\n",
    "- $[50-75\\%[$: dashed edge\n",
    "- $[75-100\\%]$: solid edge\n"
   ]
  },
  {
   "cell_type": "markdown",
   "id": "527296b1-de81-4ea9-b050-5d168a3386b7",
   "metadata": {},
   "source": [
    "# Plotting python data in R using ggplot2 and ggraph. \n",
    "Due to limitations in adjustability for plotting arcdiagrams in python, here the R libary `ggraph` is used for plotting. Please refer to the [ggraph documentation](https://ggraph.data-imaginist.com/) for further information. \n",
    "\n",
    "The data is loaded and processed using python, necessitating the use of `rpy2` as a bridge for using python and R in the same jupyter notebook. Please refer to the [rpy2 documentation](https://rpy2.github.io/) for further information. "
   ]
  },
  {
   "cell_type": "markdown",
   "id": "17ccbebc-4386-4855-b6e3-013a91ac32e4",
   "metadata": {},
   "source": [
    "## Loading the ipython extension for rpy2"
   ]
  },
  {
   "cell_type": "code",
   "execution_count": 1,
   "id": "af5cb403-6d5a-4f2a-8b31-d90cd12630cb",
   "metadata": {
    "tags": []
   },
   "outputs": [],
   "source": [
    "%load_ext rpy2.ipython"
   ]
  },
  {
   "cell_type": "markdown",
   "id": "7ac9076c-1870-4e7a-97ad-ba9b57e764f5",
   "metadata": {},
   "source": [
    "## Importing the necessary R libraries"
   ]
  },
  {
   "cell_type": "code",
   "execution_count": 2,
   "id": "38579f1b-2329-4615-9fd6-58118e777c45",
   "metadata": {},
   "outputs": [
    {
     "data": {
      "text/plain": [
       "Loading required package: ggplot2\n",
       "\n",
       "Attaching package: ‘tidygraph’\n",
       "\n",
       "The following object is masked from ‘package:stats’:\n",
       "\n",
       "    filter\n",
       "\n",
       "Loading required package: viridisLite\n"
      ]
     },
     "metadata": {},
     "output_type": "display_data"
    }
   ],
   "source": [
    "%%R\n",
    "library(ggraph)\n",
    "library(tidygraph)\n",
    "library(repr)\n",
    "library(grDevices)\n",
    "library(ggplot2)\n",
    "library(viridis)"
   ]
  },
  {
   "cell_type": "markdown",
   "id": "15e8f5d8-4a6d-441c-bc4c-216c623bfa37",
   "metadata": {},
   "source": [
    "## Importing the rpy2 functions to translate python objects to R objects"
   ]
  },
  {
   "cell_type": "code",
   "execution_count": 3,
   "id": "8b891bc9-0fc2-4396-a0a8-e9f87ffe1848",
   "metadata": {},
   "outputs": [],
   "source": [
    "import rpy2.robjects as ro\n",
    "from rpy2.robjects import numpy2ri\n",
    "from rpy2.robjects import default_converter\n",
    "from rpy2.robjects.packages import importr\n",
    "from rpy2.robjects import pandas2ri"
   ]
  },
  {
   "cell_type": "markdown",
   "id": "ea853578-7e4b-4463-b198-833a70672555",
   "metadata": {},
   "source": [
    "## Importing the necessary python packages "
   ]
  },
  {
   "cell_type": "code",
   "execution_count": 4,
   "id": "252e81f5-d0b6-4961-a8af-0d5c5dbb3b49",
   "metadata": {},
   "outputs": [],
   "source": [
    "import numpy as np\n",
    "import mdtraj as md\n",
    "import pandas as pd\n",
    "import matplotlib\n",
    "import matplotlib.pyplot as plt"
   ]
  },
  {
   "cell_type": "markdown",
   "id": "68842ec6-4201-49fb-b109-bd4c45e28651",
   "metadata": {},
   "source": [
    "## This code only works if an `adjacency_matrices` array is provided! \n",
    "\n",
    "The adjacency matrices here are loaded from disk using memory mapping in this notebook. Due to storage constraints, the adjacency matrix file is not not provided here. It was calculated in the same manner as in  [1_Calculating_Closeness_Centralities_full_length_FAT10.ipynb](../1_Calculating_Closeness_Centralities_full_length_FAT10.ipynb) and can be written out when running the closeness centrality calculation if needed. "
   ]
  },
  {
   "cell_type": "code",
   "execution_count": 5,
   "id": "ae8e35d3-fe2a-4ce7-aab7-a62de20ef72c",
   "metadata": {},
   "outputs": [],
   "source": [
    "adjacency_matrices = np.load(\"/home/leonf/phd/Analysis_FAT10_Simulation_Triplicates/FAT10_123_adjacency_matrices_sidechain_distances_00_45_dt100_connected_bb.npy\",\n",
    "                             mmap_mode = 'r')"
   ]
  },
  {
   "cell_type": "code",
   "execution_count": 6,
   "id": "d6ce818a-fde7-40a8-9192-b8b23b1dc11c",
   "metadata": {},
   "outputs": [
    {
     "data": {
      "text/plain": [
       "(300150, 165, 165)"
      ]
     },
     "execution_count": 6,
     "metadata": {},
     "output_type": "execute_result"
    }
   ],
   "source": [
    "adjacency_matrices.shape"
   ]
  },
  {
   "cell_type": "markdown",
   "id": "f4e49ab7-59c1-4835-bdc0-462219fff82d",
   "metadata": {},
   "source": [
    "## Loading cluster ids from the HDBSCAN clustering of the EncoderMap"
   ]
  },
  {
   "cell_type": "code",
   "execution_count": 7,
   "id": "5ae72b8a-077d-4fec-8ebe-69362e45a98f",
   "metadata": {},
   "outputs": [],
   "source": [
    "cluster_ids = np.load(\"./1_Cluster_IDs_Encodermap_HDBSCAN_full_length_FAT10.npy\")"
   ]
  },
  {
   "cell_type": "markdown",
   "id": "1c8dc11c-506b-4d62-b1c7-7e3f37fb35df",
   "metadata": {},
   "source": [
    "## Loading closeness centralities \n",
    "Needed for coloring the nodes by mean closeness centrality of the cluster"
   ]
  },
  {
   "cell_type": "code",
   "execution_count": 8,
   "id": "400fc50f-6044-4b3f-a514-abcc67411dc2",
   "metadata": {},
   "outputs": [],
   "source": [
    "closeness = np.load(\"../Closeness_Centralities_full_length_FAT10.npy\")"
   ]
  },
  {
   "cell_type": "markdown",
   "id": "dbb1a794-8af9-4ccc-a083-4bab442a9a40",
   "metadata": {},
   "source": [
    "## Loading the topology for residue naming "
   ]
  },
  {
   "cell_type": "code",
   "execution_count": 9,
   "id": "dac3f684-d6fa-4091-a21a-1fab94116ac4",
   "metadata": {},
   "outputs": [],
   "source": [
    "PDB_file = md.load(\"../start_frame_FAT10.pdb\")"
   ]
  },
  {
   "cell_type": "markdown",
   "id": "0652b40e-53d5-4c44-aaa3-f6794759e5cc",
   "metadata": {},
   "source": [
    "## Creating a dictionary of nodes (i.e. residues) with residue ID and name"
   ]
  },
  {
   "cell_type": "code",
   "execution_count": 10,
   "id": "b1dc90d0-f59f-4e5c-8b8d-ee638c5d5058",
   "metadata": {},
   "outputs": [],
   "source": [
    "node_dict = {index:str(residue) for index, residue in enumerate(PDB_file.topology.residues)}\n",
    "nodes = list(node_dict.values())"
   ]
  },
  {
   "cell_type": "markdown",
   "id": "6a9f336c-2c7c-4410-8198-b091d346b538",
   "metadata": {},
   "source": [
    "## Selecting the cluster for which to calculate the consensus graph"
   ]
  },
  {
   "cell_type": "code",
   "execution_count": 11,
   "id": "1482e395-3246-44ee-95b0-3432800d03a6",
   "metadata": {
    "tags": []
   },
   "outputs": [],
   "source": [
    "cluster = 12"
   ]
  },
  {
   "cell_type": "markdown",
   "id": "371fb886-3dff-4060-9328-2059a11ea7b9",
   "metadata": {},
   "source": [
    "## Calculating the mean adjacency matrix \n",
    "(i.e. the edge weights of the consensus graph)"
   ]
  },
  {
   "cell_type": "code",
   "execution_count": 12,
   "id": "9d97ec42-9168-478f-bc44-6ae136aaf5ce",
   "metadata": {},
   "outputs": [],
   "source": [
    "frames_in_cluster = np.where(cluster_ids == cluster)[0]\n",
    "adjacency_matrices_in_cluster = adjacency_matrices[frames_in_cluster]\n",
    "mean_adjacency_matrix = np.mean(adjacency_matrices_in_cluster, axis = 0)"
   ]
  },
  {
   "cell_type": "markdown",
   "id": "3f84a87a-3e47-4090-8c1d-02d187a07979",
   "metadata": {},
   "source": [
    "## Constructing pandas dataframes for nodes and edges\n",
    "These are later translated into R dataframes. "
   ]
  },
  {
   "cell_type": "code",
   "execution_count": 13,
   "id": "78726661-e3cc-4e86-86ec-1c0777e338bd",
   "metadata": {},
   "outputs": [],
   "source": [
    "nodes_df = pd.DataFrame (nodes, columns = ['Residues'])\n",
    "nodes_df['closeness'] = np.mean(closeness[frames_in_cluster], axis = 0)  #Node feature: Mean closeness centrality across cluster, used for node coloring.\n",
    "edges_df = pd.DataFrame(columns = ['from', 'to', 'weight'])"
   ]
  },
  {
   "cell_type": "markdown",
   "id": "fd503752-3426-4e99-85c6-a7ab4f1face4",
   "metadata": {},
   "source": [
    "## Selecting thresholds to group the edge weights of the consensus graph"
   ]
  },
  {
   "cell_type": "code",
   "execution_count": 14,
   "id": "9d2f4435-7194-4a6f-832b-06dd16ff42b2",
   "metadata": {},
   "outputs": [],
   "source": [
    "threshold = 0.25\n",
    "threshold_dashed = 0.75\n",
    "threshold_dotted = 0.5"
   ]
  },
  {
   "cell_type": "markdown",
   "id": "e99c6be8-358a-4140-9c98-485e376b2f2b",
   "metadata": {},
   "source": [
    "## Adding edges to the consensus graph\n",
    "\n",
    "In this cell, we go through each residue pair in the mean adjacency matrix for the cluster. If the probability of a residue-residue contact in the cluster is above the set threshold, it is added as a edge to be drawn in the arc diagram. "
   ]
  },
  {
   "cell_type": "code",
   "execution_count": 15,
   "id": "5a9a727b-9bc8-4998-a71a-63d3ae094a3b",
   "metadata": {
    "tags": []
   },
   "outputs": [],
   "source": [
    "rows =[]\n",
    "# Go through each entry in the mean adjacency matrix\n",
    "for i in range(mean_adjacency_matrix.shape[0]): \n",
    "    for j in range(i+1, mean_adjacency_matrix.shape[1]):\n",
    "        # Add edge to list of edges if probability for contact exceeds threshold and \n",
    "        # residues are not direct neighbors (i.e. do not draw backbone)\n",
    "        if mean_adjacency_matrix[i,j] > threshold and abs(i-j)>1:\n",
    "            # ignore intra-domain contacts \n",
    "            if i<85 and j>81: \n",
    "                rows.append({\"from\" : int(i+1), \n",
    "                             \"to\" : int(j+1), \n",
    "                             # Add plotting parameters according to grouped weight for easier visualization\n",
    "                             \"weight\" : 1 if mean_adjacency_matrix[i,j] >= threshold_dashed else 0.5 if mean_adjacency_matrix[i,j] >= threshold_dotted else 0, \n",
    "                             \"linetype\" : 1 if mean_adjacency_matrix[i,j] >= threshold_dashed else 3 if mean_adjacency_matrix[i,j] >= threshold_dotted else 2, \n",
    "                             \"curvature\": 0.1})\n",
    "\n",
    "            \n",
    "edges_df = pd.concat([pd.DataFrame([row]) for row in rows], ignore_index=True)"
   ]
  },
  {
   "cell_type": "markdown",
   "id": "92153021-7f2b-4e43-ae70-5ddc764d2fb9",
   "metadata": {},
   "source": [
    "## Converting pandas dataframes for nodes and edges to R dataframes using `rpy2`"
   ]
  },
  {
   "cell_type": "code",
   "execution_count": 16,
   "id": "ab5d4a39-c445-4cd9-a987-e38c1cdc4304",
   "metadata": {},
   "outputs": [],
   "source": [
    "# Adjusting index from 0-Indexed (python) to 1-indexed (R)\n",
    "nodes_df.index = np.arange(1, len(nodes_df)+1) \n",
    "edges_df.index = np.arange(1, len(edges_df)+1)\n",
    "\n",
    "# Converting pandas objects to R objects\n",
    "with (ro.default_converter + pandas2ri.converter).context():\n",
    "    r_nodes_df = ro.conversion.get_conversion().py2rpy(nodes_df)\n",
    "    r_edges_df = ro.conversion.get_conversion().py2rpy(edges_df)"
   ]
  },
  {
   "cell_type": "markdown",
   "id": "3ec07b9f-2ce1-40eb-aafb-4c0b7f977212",
   "metadata": {},
   "source": [
    "## Plotting the arc diagram of the consensus graph "
   ]
  },
  {
   "cell_type": "code",
   "execution_count": 17,
   "id": "b07210fd-8d09-4dbf-9e4f-f2570788b72d",
   "metadata": {
    "tags": []
   },
   "outputs": [
    {
     "data": {
      "text/plain": [
       "In addition: Warning message:\n",
       "Using the `size` aesthetic in this geom was deprecated in ggplot2 3.4.0.\n",
       "ℹ Please use `linewidth` in the `default_aes` field and elsewhere instead.\n",
       "This warning is displayed once every 8 hours.\n",
       "Call `lifecycle::last_lifecycle_warnings()` to see where this warning was\n",
       "generated. \n"
      ]
     },
     "metadata": {},
     "output_type": "display_data"
    },
    {
     "data": {
      "image/png": "[encoded data removed]",
      "text/plain": [
       "<IPython.core.display.Image object>"
      ]
     },
     "metadata": {},
     "output_type": "display_data"
    }
   ],
   "source": [
    "%%R -i r_nodes_df,r_edges_df\n",
    "# Cell magic to run R in this cell and import the required objects \n",
    "\n",
    "# construct the graph from nodes and edges \n",
    "graph = tbl_graph(nodes = r_nodes_df, edges = r_edges_df)\n",
    "\n",
    "# Plot the graph \n",
    "g = ggraph(graph, layout = 'linear')+ \n",
    "    geom_edge_arc(aes(alpha = weight,\n",
    "                      #color = weight, \n",
    "                      width = weight,\n",
    "                      #label = label, \n",
    "                      linetype = as.factor(linetype) \n",
    "                  ),\n",
    "                  strength = 0.7\n",
    "                  #angle_calc = \"none\",\n",
    "                  #label_dodge = unit(-8, 'mm'),\n",
    "                  #check_overlap = FALSE\n",
    "                 )+\n",
    "    \n",
    "    #Plot nodes as tiles for better readability, colored by mean closeness\n",
    "    geom_tile(aes(x = seq(1,165), \n",
    "                  y = rep(-1.5,165), \n",
    "                  fill = closeness),\n",
    "                  height = 3\n",
    "                   )+\n",
    "    # Optional node labeling \n",
    "    #geom_node_text(aes(label = Residues), \n",
    "    #               angle = 90, \n",
    "    #               hjust = 1, \n",
    "    #               vjust = 0.5,\n",
    "    #               nudge_y = -3,\n",
    "    #               size = 2.5, \n",
    "    #               color = \"black\") +\n",
    "    # Node plotting parameters\n",
    "    scale_fill_distiller(palette = 'YlGnBu',\n",
    "                          direction = 1,\n",
    "                          #trans='reverse',\n",
    "                          limits=c(0.14,0.28)\n",
    "                         )+\n",
    "    # Edge plotting parameters \n",
    "    scale_edge_width_continuous(range=c(0.4,1.8))+\n",
    "    scale_edge_alpha_continuous(range=c(0.5,1))+\n",
    "    scale_edge_color_distiller(palette='Spectral', \n",
    "                               #trans='reverse'\n",
    "                              )+\n",
    "    theme_graph() +\n",
    "    theme(\n",
    "    legend.position='none',\n",
    "    plot.margin=unit(c(-0.5,-0.5,-0.5,-0.5), \"in\"),\n",
    "    panel.spacing=unit(c(-1,-1,-1,-1), \"in\"),\n",
    "    #aspect.ratio=0.2\n",
    "    )+\n",
    "    #expand_limits(x = c(0,0), y = c(0,0))\n",
    "    xlim(c(-5,170))+\n",
    "    ylim(c(-10,54))\n",
    "\n",
    "#Labeling of the domains \n",
    "\n",
    "ymin = -7\n",
    "ymax = -5\n",
    "y_mean = mean(c(ymin, ymax)) \n",
    "\n",
    "g = g +\n",
    "    geom_segment(aes(x = 1, xend = 165, y = y_mean, yend = y_mean), color = \"black\", linewidth = unit(c(1.5), \"pt\"))+\n",
    "    geom_segment(aes(x = 8, xend = 80, y = y_mean, yend = y_mean), color = \"steelblue\", linewidth = unit(c(12), \"pt\"))+\n",
    "    geom_segment(aes(x = 87, xend = 160, y = y_mean, yend = y_mean), color = \"goldenrod\", linewidth = unit(c(12), \"pt\"))+\n",
    "    annotate(\"text\", x = mean(c(8, 80)), y = y_mean, label = \"ND\", size = unit(c(10), \"pt\"), color = \"black\")+\n",
    "    annotate(\"text\", x = mean(c(87, 160)), y = y_mean, label = \"CD\", size = unit(c(10), \"pt\"), color = \"black\")\n",
    "\n",
    "\n",
    "# Saving the plot - displays the arcdiagram in the correct sizing and aspect ratio. \n",
    "ggsave(plot = g, \n",
    "       width = 23, \n",
    "       height = 6, \n",
    "       dpi =400, \n",
    "       filename ='1_Arcplot_consensus_graph_red_cluster_EncoderMap.png')\n",
    "\n",
    "g"
   ]
  }
 ],
 "metadata": {
  "kernelspec": {
   "display_name": "Python 3 (ipykernel)",
   "language": "python",
   "name": "python3"
  },
  "language_info": {
   "codemirror_mode": {
    "name": "ipython",
    "version": 3
   },
   "file_extension": ".py",
   "mimetype": "text/x-python",
   "name": "python",
   "nbconvert_exporter": "python",
   "pygments_lexer": "ipython3",
   "version": "3.11.0"
  }
 },
 "nbformat": 4,
 "nbformat_minor": 5
}
