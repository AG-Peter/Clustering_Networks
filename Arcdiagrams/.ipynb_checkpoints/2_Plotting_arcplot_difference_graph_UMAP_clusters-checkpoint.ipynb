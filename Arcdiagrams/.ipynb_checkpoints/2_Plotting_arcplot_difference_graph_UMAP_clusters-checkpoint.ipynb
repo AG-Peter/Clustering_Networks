{
 "cells": [
  {
   "cell_type": "markdown",
   "id": "3a3216ea-e927-43ea-bee1-03409e9164f0",
   "metadata": {},
   "source": [
    "# Plotting difference graphs of clusters as arc diagrams\n",
    "\n",
    "In this notebook, the difference graph of two cluster is plotted as an arc diagram. \n",
    "\n",
    "Here, the two clusters are cluster 6 (Ile126out) and 9 (Ile126 in) in the HDBSCAN clustering of the UMAP for the C-domain.\n",
    "\n",
    "The nodes of the consensus graph are the residues of the protein. The edges between two residues are weighted by the difference in contact probability for this edge between the clusters. Practically, this is calculated by the difference between the two mean adjacency matrices of the clusters. \n",
    "The edges are shown if they exceed a probability difference of 50%. \n",
    "\n",
    "This notebook is similar to [1_Plotting_arcplot_consensus_graph_red_cluster_EncoderMap.ipynb](./1_Plotting_arcplot_consensus_graph_red_cluster_EncoderMap.ipynb). "
   ]
  },
  {
   "cell_type": "markdown",
   "id": "10dde142-d2d5-4a59-9cf6-d6909aba7c29",
   "metadata": {},
   "source": [
    "# Plotting python data in R using ggplot2 and ggraph. \n",
    "Due to limitations in adjustability for plotting arcdiagrams in python, here the R libary `ggraph` is used for plotting. Please refer to the [ggraph documentation](https://ggraph.data-imaginist.com/) for further information. \n",
    "\n",
    "The data is loaded and processed using python, necessitating the use of `rpy2` as a bridge for using python and R in the same jupyter notebook. Please refer to the [rpy2 documentation](https://rpy2.github.io/) for further information. "
   ]
  },
  {
   "cell_type": "markdown",
   "id": "cacb0f61-3e12-44c0-b048-0cb26087e6c2",
   "metadata": {},
   "source": [
    "## Loading the ipython extension for rpy2"
   ]
  },
  {
   "cell_type": "code",
   "execution_count": 1,
   "id": "af5cb403-6d5a-4f2a-8b31-d90cd12630cb",
   "metadata": {},
   "outputs": [],
   "source": [
    "%load_ext rpy2.ipython"
   ]
  },
  {
   "cell_type": "markdown",
   "id": "a1b5ccda-d7ba-497e-b478-49bd2029f6cc",
   "metadata": {},
   "source": [
    "## Importing the necessary R libraries"
   ]
  },
  {
   "cell_type": "code",
   "execution_count": 2,
   "id": "38579f1b-2329-4615-9fd6-58118e777c45",
   "metadata": {},
   "outputs": [
    {
     "data": {
      "text/plain": [
       "Loading required package: ggplot2\n",
       "\n",
       "Attaching package: ‘tidygraph’\n",
       "\n",
       "The following object is masked from ‘package:stats’:\n",
       "\n",
       "    filter\n",
       "\n",
       "Loading required package: viridisLite\n"
      ]
     },
     "metadata": {},
     "output_type": "display_data"
    }
   ],
   "source": [
    "%%R\n",
    "library(ggraph)\n",
    "library(tidygraph)\n",
    "library(repr)\n",
    "library(grDevices)\n",
    "library(ggplot2)\n",
    "library(viridis)"
   ]
  },
  {
   "cell_type": "markdown",
   "id": "75cf097f-0dce-4357-8cce-32e9cf26df26",
   "metadata": {},
   "source": [
    "## Importing the rpy2 functions to translate python objects to R objects"
   ]
  },
  {
   "cell_type": "code",
   "execution_count": 3,
   "id": "8b891bc9-0fc2-4396-a0a8-e9f87ffe1848",
   "metadata": {},
   "outputs": [],
   "source": [
    "import rpy2.robjects as ro\n",
    "from rpy2.robjects import numpy2ri\n",
    "from rpy2.robjects import default_converter\n",
    "from rpy2.robjects.packages import importr\n",
    "from rpy2.robjects import pandas2ri"
   ]
  },
  {
   "cell_type": "markdown",
   "id": "35924983-edeb-4656-8adb-8108316ddcb2",
   "metadata": {},
   "source": [
    "## Importing the necessary python packages "
   ]
  },
  {
   "cell_type": "code",
   "execution_count": 4,
   "id": "252e81f5-d0b6-4961-a8af-0d5c5dbb3b49",
   "metadata": {
    "tags": []
   },
   "outputs": [],
   "source": [
    "import numpy as np\n",
    "import mdtraj as md\n",
    "import pandas as pd\n",
    "import matplotlib\n",
    "import matplotlib.pyplot as plt"
   ]
  },
  {
   "cell_type": "markdown",
   "id": "c7bc9a77-1196-4bce-9e35-7c6d760736df",
   "metadata": {},
   "source": [
    "## This code only works if an `adjacency_matrices` array is provided! \n",
    "\n",
    "The adjacency matrices here are loaded from disk using memory mapping in this notebook. Due to storage constraints, the adjacency matrix file is not not provided here. It was calculated in the same manner as in  [1_Calculating_Closeness_Centralities_full_length_FAT10.ipynb](../1_Calculating_Closeness_Centralities_full_length_FAT10.ipynb) and can be written out when running the closeness centrality calculation if needed. "
   ]
  },
  {
   "cell_type": "code",
   "execution_count": 5,
   "id": "ae8e35d3-fe2a-4ce7-aab7-a62de20ef72c",
   "metadata": {},
   "outputs": [],
   "source": [
    "adjacency_matrices = np.load(\"/home/leonf/phd/Analysis_FAT10_Simulation_Triplicates/FAT10_123_adjacency_matrices_sidechain_distances_00_45_dt100_connected_bb.npy\",\n",
    "                             mmap_mode = 'r')"
   ]
  },
  {
   "cell_type": "markdown",
   "id": "25bd771d-33c9-4b70-be8a-bf04ad3763dd",
   "metadata": {},
   "source": [
    "## Loading cluster ids from the HDBSCAN clustering of the UMAP"
   ]
  },
  {
   "cell_type": "code",
   "execution_count": 6,
   "id": "5ae72b8a-077d-4fec-8ebe-69362e45a98f",
   "metadata": {},
   "outputs": [],
   "source": [
    "cluster_ids = np.load(\"./2_Cluster_IDs_UMAP_HDBSCAN_isolated_domain.npy\")"
   ]
  },
  {
   "cell_type": "markdown",
   "id": "0fa66996-9b59-404f-b44e-a9d72da40f49",
   "metadata": {},
   "source": [
    "## Defining limits of the C-domain"
   ]
  },
  {
   "cell_type": "code",
   "execution_count": 7,
   "id": "ecf70bda-21ed-42bb-8ac0-b8ddad7cf355",
   "metadata": {},
   "outputs": [],
   "source": [
    "CD_start_res = 87 # Starting residue of the C-Domain (0-Indexed. This is residue LEU88 in the structure)\n",
    "CD_end_res = 158 # End residue of the C-Domain (0-Indexed. This is ALA159 in the structure)."
   ]
  },
  {
   "cell_type": "markdown",
   "id": "7c396893-2bd7-4dc5-aa30-64925d8ab967",
   "metadata": {},
   "source": [
    "## Loading closeness centralities \n",
    "Needed for coloring the nodes by mean closeness centrality of the cluster"
   ]
  },
  {
   "cell_type": "code",
   "execution_count": 8,
   "id": "400fc50f-6044-4b3f-a514-abcc67411dc2",
   "metadata": {
    "tags": []
   },
   "outputs": [],
   "source": [
    "closeness = np.load(\"../Closeness_Centralities_C_domain_FAT10_res_88_159.npy\")"
   ]
  },
  {
   "cell_type": "markdown",
   "id": "c1ab0a82-7cfd-4c69-a679-869908682bb5",
   "metadata": {},
   "source": [
    "## Loading the topology for residue naming "
   ]
  },
  {
   "cell_type": "code",
   "execution_count": 9,
   "id": "dac3f684-d6fa-4091-a21a-1fab94116ac4",
   "metadata": {},
   "outputs": [],
   "source": [
    "PDB_file = md.load(\"../start_frame_FAT10.pdb\")"
   ]
  },
  {
   "cell_type": "markdown",
   "id": "4a131587-4086-4441-8894-e085677a4856",
   "metadata": {},
   "source": [
    "## Creating a dictionary of nodes (i.e. residues) with residue ID and name"
   ]
  },
  {
   "cell_type": "code",
   "execution_count": 10,
   "id": "b1dc90d0-f59f-4e5c-8b8d-ee638c5d5058",
   "metadata": {},
   "outputs": [],
   "source": [
    "node_dict = {index:str(residue) for index, residue in enumerate(PDB_file.topology.residues) if index > CD_start_res-1 and index < CD_end_res+1}\n",
    "nodes = list(node_dict.values())"
   ]
  },
  {
   "cell_type": "markdown",
   "id": "a58f1dad-18a3-4f82-a406-f5df1f8c7306",
   "metadata": {},
   "source": [
    "## Constructing pandas dataframes for nodes and edges\n",
    "These are later translated into R dataframes. "
   ]
  },
  {
   "cell_type": "code",
   "execution_count": 11,
   "id": "c41cfdf4-0f93-4c60-ad29-20dc9a70ff57",
   "metadata": {},
   "outputs": [],
   "source": [
    "nodes_df = pd.DataFrame (nodes, columns = ['Residues'])\n",
    "edges_df = pd.DataFrame(columns = ['from', 'to', 'weight'])"
   ]
  },
  {
   "cell_type": "markdown",
   "id": "9ab90819-46ae-4a08-88ea-419a0e5a3722",
   "metadata": {},
   "source": [
    "## Selecting the clusters for which to construct the difference graph"
   ]
  },
  {
   "cell_type": "code",
   "execution_count": 12,
   "id": "029b2217-98c3-4d66-8679-80c4f2bddebd",
   "metadata": {},
   "outputs": [],
   "source": [
    "frames_in_cluster_0 = np.where(cluster_ids == 9)[0]\n",
    "frames_in_cluster_1 = np.where(cluster_ids == 6)[0]"
   ]
  },
  {
   "cell_type": "markdown",
   "id": "cd62a00a-08eb-4e4b-8f6e-dded876ead1f",
   "metadata": {},
   "source": [
    "## Calculating the difference graph \n",
    "This is the difference between the two mean adjacency matrices, i.e. the difference in edge probabilities for each contact in the two clusters."
   ]
  },
  {
   "cell_type": "code",
   "execution_count": 13,
   "id": "0b53e78a-d338-496e-a823-dcb96977d244",
   "metadata": {},
   "outputs": [],
   "source": [
    "adjacency_matrices_in_cluster_0 = adjacency_matrices[frames_in_cluster_0, CD_start_res:CD_end_res+1, CD_start_res:CD_end_res+1] # CD_end_res needs to be adjusted due to numpy array slicing syntax.\n",
    "adjacency_matrices_in_cluster_1 = adjacency_matrices[frames_in_cluster_1, CD_start_res:CD_end_res+1, CD_start_res:CD_end_res+1]\n",
    "mean_adjacency_matrix_0 = np.mean(adjacency_matrices_in_cluster_0, axis = 0)\n",
    "mean_adjacency_matrix_1 = np.mean(adjacency_matrices_in_cluster_1, axis = 0)\n",
    "mean_difference_matrix = mean_adjacency_matrix_0-mean_adjacency_matrix_1"
   ]
  },
  {
   "cell_type": "code",
   "execution_count": 14,
   "id": "3023bdf8-2407-42a7-8bda-66aa0b052f47",
   "metadata": {},
   "outputs": [
    {
     "data": {
      "text/plain": [
       "<matplotlib.image.AxesImage at 0x7c7dac456350>"
      ]
     },
     "execution_count": 14,
     "metadata": {},
     "output_type": "execute_result"
    },
    {
     "data": {
      "image/png": "[encoded data removed]",
      "text/plain": [
       "<Figure size 640x480 with 1 Axes>"
      ]
     },
     "metadata": {},
     "output_type": "display_data"
    }
   ],
   "source": [
    "plt.imshow(mean_difference_matrix, cmap = \"RdBu\")"
   ]
  },
  {
   "cell_type": "markdown",
   "id": "f749655f-55d4-4afd-a97c-943e1cb2812b",
   "metadata": {},
   "source": [
    "## Adding the differnce in mean closeness centralities as a node feature\n",
    "This will be used for node coloring later"
   ]
  },
  {
   "cell_type": "code",
   "execution_count": 15,
   "id": "89bc25a9-1015-4e97-b8e8-db3df4bc601b",
   "metadata": {},
   "outputs": [],
   "source": [
    "nodes_df['closeness'] = np.mean(closeness[frames_in_cluster_0], axis=0) - np.mean(closeness[frames_in_cluster_1], axis=0)"
   ]
  },
  {
   "cell_type": "code",
   "execution_count": 16,
   "id": "1224bae3-90be-48e6-8ee1-6e7b0534d479",
   "metadata": {},
   "outputs": [
    {
     "data": {
      "text/plain": [
       "[<matplotlib.lines.Line2D at 0x7c7dac4d1250>]"
      ]
     },
     "execution_count": 16,
     "metadata": {},
     "output_type": "execute_result"
    },
    {
     "data": {
      "image/png": "[encoded data removed]",
      "text/plain": [
       "<Figure size 640x480 with 1 Axes>"
      ]
     },
     "metadata": {},
     "output_type": "display_data"
    }
   ],
   "source": [
    "plt.plot(np.mean(closeness[frames_in_cluster_0], axis=0) - np.mean(closeness[frames_in_cluster_1], axis=0))"
   ]
  },
  {
   "cell_type": "markdown",
   "id": "7ffd42d4-75bd-417f-ae67-04786b201119",
   "metadata": {},
   "source": [
    "## Setting a threshold for the minimum probability difference that should be displayed as an edge in the arc plot"
   ]
  },
  {
   "cell_type": "code",
   "execution_count": 17,
   "id": "dae5c60d-0fd6-43a5-a1df-88c7cadef992",
   "metadata": {},
   "outputs": [],
   "source": [
    "difference_threshold = 0.5"
   ]
  },
  {
   "cell_type": "markdown",
   "id": "2a9e62eb-42ff-423f-9dbd-129fa56c7eb5",
   "metadata": {},
   "source": [
    "## Adding edges to the difference graph\n",
    "\n",
    "In this cell, we go through each residue pair in the `mean_difference_matrix`. If the probability difference of a residue-residue contact in the clusters is above the set threshold, it is added as a edge to be drawn in the arc diagram. "
   ]
  },
  {
   "cell_type": "code",
   "execution_count": 18,
   "id": "52828240-a2f3-49a0-814a-fe432e263c97",
   "metadata": {},
   "outputs": [],
   "source": [
    "rows =[]\n",
    "# Go through each entry in the mean adjacency matrix\n",
    "for i in range(mean_difference_matrix.shape[0]): \n",
    "    for j in range(i +1, mean_difference_matrix.shape[1]):\n",
    "        # Add edge to list of edges if probability difference for contact exceeds threshold \n",
    "        if np.abs(mean_difference_matrix[i,j]) > difference_threshold and abs(i-j)>1:\n",
    "                rows.append({\"from\" : int(i+1), \n",
    "                             \"to\" : int(j+1), \n",
    "                             \"weight\" : mean_difference_matrix[i,j]})\n",
    "edges_df = pd.concat([pd.DataFrame([row]) for row in rows], ignore_index=True)\n"
   ]
  },
  {
   "cell_type": "markdown",
   "id": "58f7ce5b-dcd3-4813-a936-eddf3d50f5ca",
   "metadata": {},
   "source": [
    "## Converting pandas dataframes for nodes and edges to R dataframes using `rpy2`"
   ]
  },
  {
   "cell_type": "code",
   "execution_count": 19,
   "id": "6a9e357c-a60d-4ec7-8919-e67f1f43c090",
   "metadata": {},
   "outputs": [],
   "source": [
    "# Adjusting index from 0-Indexed (python) to 1-indexed (R)\n",
    "nodes_df.index = np.arange(1, len(nodes_df)+1)\n",
    "edges_df.index = np.arange(1, len(edges_df)+1)\n",
    "\n",
    "# Converting pandas objects to R objects\n",
    "with (ro.default_converter + pandas2ri.converter).context():\n",
    "    r_nodes_df = ro.conversion.get_conversion().py2rpy(nodes_df)\n",
    "    r_edges_df = ro.conversion.get_conversion().py2rpy(edges_df)"
   ]
  },
  {
   "cell_type": "markdown",
   "id": "b1de0531-2edf-4d18-80c4-053b7ee471d7",
   "metadata": {},
   "source": [
    "## Plotting the arc diagram of the difference graph "
   ]
  },
  {
   "cell_type": "code",
   "execution_count": 20,
   "id": "a092723b-7c66-41ab-ba50-c157568e4750",
   "metadata": {},
   "outputs": [
    {
     "data": {
      "text/plain": [
       "In addition: Warning message:\n",
       "Using the `size` aesthetic in this geom was deprecated in ggplot2 3.4.0.\n",
       "ℹ Please use `linewidth` in the `default_aes` field and elsewhere instead.\n",
       "This warning is displayed once every 8 hours.\n",
       "Call `lifecycle::last_lifecycle_warnings()` to see where this warning was\n",
       "generated. \n"
      ]
     },
     "metadata": {},
     "output_type": "display_data"
    },
    {
     "data": {
      "image/png": "[encoded data removed]",
      "text/plain": [
       "<IPython.core.display.Image object>"
      ]
     },
     "metadata": {},
     "output_type": "display_data"
    }
   ],
   "source": [
    "%%R -i r_nodes_df,r_edges_df\n",
    "# Cell magic to run R in this cell and import the required objects \n",
    "\n",
    "# construct the graph from nodes and edges \n",
    "graph = tbl_graph(nodes = r_nodes_df, edges = r_edges_df)\n",
    "\n",
    "# Plot the graph \n",
    "g = ggraph(graph, layout = 'linear') +\n",
    "    # Plot nodes as bars, height is given by difference in mean closeness\n",
    "    geom_tile(aes(x=seq(1,72), \n",
    "                  y=closeness*40, \n",
    "                  height = closeness*80), \n",
    "              fill = \"white\", \n",
    "              color = 'black', \n",
    "              linewidth = 0.5) +\n",
    "    # Plot edges, color based on sign of the difference for clear assignment to clusters\n",
    "    geom_edge_arc(aes(alpha = 2, \n",
    "                      color = sign(weight), \n",
    "                      #width= abs(weight)  # drawing option for represeting difference by width\n",
    "                     ),\n",
    "                  width=0.8,\n",
    "                  strength = 0.9) +\n",
    "    # Node labeling \n",
    "    geom_node_text(aes(label = Residues), \n",
    "                   angle = 90, \n",
    "                   hjust = 1, \n",
    "                   vjust = 0.5,\n",
    "                   nudge_y = -6,\n",
    "                   size = 3.5, \n",
    "                   color = \"black\") +\n",
    "    \n",
    "    # Node plotting parameters\n",
    "    scale_size_continuous(range=c(0.1,6))+\n",
    "    #scale_color_viridis()+\n",
    "    \n",
    "    #Edge plotting parameters \n",
    "    scale_edge_width_continuous(range=c(0.2,1))+\n",
    "    scale_edge_alpha_continuous(range=c(0.1,1))+\n",
    "    #Custom coloring to match cluster colors \n",
    "    scale_edge_color_gradient(high= '#b8860b',\n",
    "                              low = '#4682b4'\n",
    "                              )+\n",
    "    theme_graph() +\n",
    "    theme(\n",
    "    legend.position='none',\n",
    "    plot.margin=unit(c(0,0,0,0), \"pt\"),\n",
    "    panel.spacing=unit(c(0,0,0,0), \"pt\"),\n",
    "    aspect.ratio=0.15) +\n",
    "    expand_limits(x = c(-1.2, 1.2), y = c(-30,0))\n",
    "\n",
    "# Saving the plot - displays the arcdiagram in the correct sizing and aspect ratio. \n",
    "ggsave(plot = g, \n",
    "       width = 20, \n",
    "       height = 4, \n",
    "       dpi =400, \n",
    "       filename ='2_Arcplot_difference_graph_UMAP_clusters.png')\n",
    "g"
   ]
  }
 ],
 "metadata": {
  "kernelspec": {
   "display_name": "Python 3 (ipykernel)",
   "language": "python",
   "name": "python3"
  },
  "language_info": {
   "codemirror_mode": {
    "name": "ipython",
    "version": 3
   },
   "file_extension": ".py",
   "mimetype": "text/x-python",
   "name": "python",
   "nbconvert_exporter": "python",
   "pygments_lexer": "ipython3",
   "version": "3.11.0"
  }
 },
 "nbformat": 4,
 "nbformat_minor": 5
}
